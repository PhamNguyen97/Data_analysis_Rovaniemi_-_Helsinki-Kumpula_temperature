{
 "cells": [
  {
   "cell_type": "markdown",
   "metadata": {},
   "source": [
    "# Exercise-5: Data analysis with Pandas\n",
    "## Summer temperature data from Helsinki (in Southern Finland) and Rovaniemi (city in northern Finland) \n",
    "Problem 1 - Basic statistics of the data (5 points)"
   ]
  },
  {
   "cell_type": "code",
   "execution_count": 166,
   "metadata": {},
   "outputs": [
    {
     "name": "stdout",
     "output_type": "stream",
     "text": [
      "        USAF  YR--MODAHRMN    DIR   SPD   GUS  CLG  SKC   L   M   H  ...   \\\n",
      "WBAN                                                                 ...    \n",
      "99999  28450  201705010000  174.0  10.0  14.0  NaN  NaN NaN NaN NaN  ...    \n",
      "99999  28450  201705010020  180.0  10.0   NaN  4.0  NaN NaN NaN NaN  ...    \n",
      "99999  28450  201705010050  190.0  10.0   NaN  4.0  NaN NaN NaN NaN  ...    \n",
      "99999  28450  201705010100  188.0  12.0  16.0  NaN  NaN NaN NaN NaN  ...    \n",
      "99999  28450  201705010120  200.0  13.0   NaN  2.0  OBS NaN NaN NaN  ...    \n",
      "\n",
      "          SLP    ALT    STP  MAX  MIN  PCP01  PCP06  PCP24  PCPXX    SD  \n",
      "WBAN                                                                     \n",
      "99999  1009.2    NaN  984.1  NaN  NaN    NaN    NaN    NaN    NaN  35.0  \n",
      "99999     NaN  29.74    NaN  NaN  NaN    NaN    NaN    NaN    NaN   NaN  \n",
      "99999     NaN  29.74    NaN  NaN  NaN    NaN    NaN    NaN    NaN   NaN  \n",
      "99999  1009.1    NaN  984.0  NaN  NaN    NaN    NaN    NaN    NaN  35.0  \n",
      "99999     NaN  29.74    NaN  NaN  NaN    NaN    NaN    NaN    NaN   NaN  \n",
      "\n",
      "[5 rows x 32 columns]\n",
      "Describe:\n",
      "Number of Rows:11694\n",
      "Number of Columns:32\n",
      "<class 'pandas.core.frame.DataFrame'>\n",
      "Int64Index: 11694 entries, 99999 to 99999\n",
      "Data columns (total 32 columns):\n",
      "USAF            11694 non-null int64\n",
      "YR--MODAHRMN    11694 non-null int64\n",
      "DIR             11660 non-null float64\n",
      "SPD             11688 non-null float64\n",
      "GUS             3218 non-null float64\n",
      "CLG             5513 non-null float64\n",
      "SKC             3186 non-null object\n",
      "L               0 non-null float64\n",
      "M               0 non-null float64\n",
      "H               0 non-null float64\n",
      "VSB             9204 non-null float64\n",
      "MW              422 non-null float64\n",
      "MW.1            16 non-null float64\n",
      "MW.2            0 non-null float64\n",
      "MW.3            0 non-null float64\n",
      "AW              6041 non-null float64\n",
      "AW.1            0 non-null float64\n",
      "AW.2            0 non-null float64\n",
      "AW.3            0 non-null float64\n",
      "W               1354 non-null float64\n",
      "TEMP            11691 non-null float64\n",
      "DEWP            11689 non-null float64\n",
      "SLP             5833 non-null float64\n",
      "ALT             5858 non-null float64\n",
      "STP             5833 non-null float64\n",
      "MAX             486 non-null float64\n",
      "MIN             486 non-null float64\n",
      "PCP01           254 non-null float64\n",
      "PCP06           0 non-null float64\n",
      "PCP24           4 non-null float64\n",
      "PCPXX           2 non-null float64\n",
      "SD              4435 non-null float64\n",
      "dtypes: float64(29), int64(2), object(1)\n",
      "memory usage: 2.9+ MB\n",
      "None\n"
     ]
    }
   ],
   "source": [
    "import pandas as pd\n",
    "na_values=['*', '**', '***', '****', '*****', '******']\n",
    "dataFrame = pd.read_csv('6153237444115dat.csv',delimiter = ',',na_values  = na_values,index_col = 1)\n",
    "print(dataFrame.head(5))\n",
    "print('Describe:\\nNumber of Rows:{}\\nNumber of Columns:{}'.format(len(dataFrame),len(dataFrame.columns)))\n",
    "print(dataFrame.info())"
   ]
  },
  {
   "cell_type": "code",
   "execution_count": 189,
   "metadata": {},
   "outputs": [
    {
     "name": "stdout",
     "output_type": "stream",
     "text": [
      "52.24796852279531 F degress\n"
     ]
    }
   ],
   "source": [
    "mean_F_data = dataFrame.loc[:,'TEMP']\n",
    "mean_F = mean_F_data.mean()\n",
    "print(mean_F,'F degress')\n"
   ]
  },
  {
   "cell_type": "code",
   "execution_count": 168,
   "metadata": {},
   "outputs": [
    {
     "name": "stdout",
     "output_type": "stream",
     "text": [
      "count    486.000000\n",
      "mean      58.611111\n",
      "std       10.307989\n",
      "min       29.000000\n",
      "25%       52.250000\n",
      "50%       60.500000\n",
      "75%       66.000000\n",
      "max       77.000000\n",
      "Name: MAX, dtype: float64\n"
     ]
    }
   ],
   "source": [
    "import numpy as np\n",
    "max_std_data = dataFrame.loc[:,'MAX'].dropna()\n",
    "print(max_std_data.describe())"
   ]
  },
  {
   "cell_type": "code",
   "execution_count": 107,
   "metadata": {},
   "outputs": [
    {
     "name": "stdout",
     "output_type": "stream",
     "text": [
      "Number of Unique Stations:2\n",
      "[28450 29980]\n"
     ]
    }
   ],
   "source": [
    "print('Number of Unique Stations:{}\\n{}'.format(len(dataFrame.loc[:,'USAF'].unique()),dataFrame.loc[:,'USAF'].unique()))"
   ]
  },
  {
   "cell_type": "markdown",
   "metadata": {},
   "source": [
    "Problem 2 - Data manipulation (5 points)"
   ]
  },
  {
   "cell_type": "code",
   "execution_count": 188,
   "metadata": {
    "scrolled": true
   },
   "outputs": [
    {
     "name": "stdout",
     "output_type": "stream",
     "text": [
      "        USAF  YR--MODAHRMN  TEMP   MAX   MIN  Celsius\n",
      "WBAN                                                 \n",
      "99999  28450  201705010600  31.0  34.0  31.0       -1\n",
      "99999  28450  201705011800  42.0  44.0  30.0        6\n",
      "99999  28450  201705020600  41.0  42.0  35.0        5\n",
      "99999  28450  201705021800  37.0  45.0  36.0        3\n",
      "99999  28450  201705030600  37.0  37.0  33.0        3\n"
     ]
    }
   ],
   "source": [
    "selected = dataFrame.loc[:,[ 'USAF', 'YR--MODAHRMN', 'TEMP', 'MAX', 'MIN']].dropna()\n",
    "\n",
    "selected.loc[:,'Celsius'] = ((selected.loc[:,'TEMP']-32)/1.8).round(0).astype('int')\n",
    "print(selected.head(5))\n",
    "\n",
    "\n",
    "\n"
   ]
  },
  {
   "cell_type": "markdown",
   "metadata": {},
   "source": [
    "Problem 3 - Data selection (5 points)"
   ]
  },
  {
   "cell_type": "code",
   "execution_count": 170,
   "metadata": {},
   "outputs": [],
   "source": [
    "rovaniemi = dataFrame.loc[dataFrame.loc[:,'USAF']==28450,:]\n",
    "kumpula = dataFrame.loc[dataFrame.loc[:,'USAF']==29980,:]\n",
    "\n",
    "kumpula.to_csv('Kumpula_temps_May_Aug_2017.csv',sep = ',',float_format = '%.2f')\n",
    "rovaniemi.to_csv('Rovaniemi_temps_May_Aug_2017.csv',sep = ',',float_format = '%.2f')\n"
   ]
  },
  {
   "cell_type": "markdown",
   "metadata": {},
   "source": [
    "Problem 4 - Data analysis"
   ]
  },
  {
   "cell_type": "code",
   "execution_count": 171,
   "metadata": {},
   "outputs": [
    {
     "name": "stdout",
     "output_type": "stream",
     "text": [
      "Mean Temperature in:\n",
      "Kumpala: 57.07 C degree\n",
      "Rovaniemi: 50.64 C degree\n"
     ]
    }
   ],
   "source": [
    "kumpula_data = pd.read_csv('Kumpula_temps_May_Aug_2017.csv',index_col = 0)\n",
    "kumpula_data_mean_temp = kumpula_data.loc[:,'TEMP'].dropna().mean()\n",
    "\n",
    "rovaniemi_data = pd.read_csv('Rovaniemi_temps_May_Aug_2017.csv',index_col=0)\n",
    "rovaniemi_data_mean_temp = rovaniemi_data.loc[:,'TEMP'].dropna().mean()\n",
    "\n",
    "print('Mean Temperature in:\\nKumpala: {} C degree\\nRovaniemi: {} C degree'.format(kumpula_data_mean_temp.round(2),rovaniemi_data_mean_temp.round(2)))"
   ]
  },
  {
   "cell_type": "code",
   "execution_count": 190,
   "metadata": {},
   "outputs": [
    {
     "name": "stdout",
     "output_type": "stream",
     "text": [
      "Kumpula Temp in May (C degree):\n",
      " *Mean:1.16\n",
      " *Max:12.22\n",
      " *Min:-7.22\n",
      "Kumpula Temp in June (C degree):\n",
      " *Mean:2.39\n",
      " *Max:11.11\n",
      " *Min:-3.89\n",
      "Rovaniemi Temp in May (C degree):\n",
      " *Mean:2.99\n",
      " *Max:15.00\n",
      " *Min:-7.22\n",
      "Rovaniemi Temp in June (C degree):\n",
      " *Mean:11.02\n",
      " *Max:23.33\n",
      " *Min:-1.11\n"
     ]
    }
   ],
   "source": [
    "kumpula_datetime = pd.to_datetime(kumpula_data.loc[:,'YR--MODAHRMN'].astype('str'),format = \"%Y%m%d%H%M\")\n",
    "rovaniemi_datetime = pd.to_datetime(rovaniemi_data.loc[:,'YR--MODAHRMN'].astype('str'),format = \"%Y%m%d%H%M\")\n",
    "kumpula_may = (rovaniemi_data.loc[[i.month==5 for i in kumpula_datetime],'TEMP']-32)/1.8\n",
    "rovaniemi_may = (rovaniemi_data.loc[[i.month==5 for i in rovaniemi_datetime],'TEMP']-32)/1.8\n",
    "kumpula_june = (rovaniemi_data.loc[[i.month==6 for i in kumpula_datetime],'TEMP']-32)/1.8\n",
    "rovaniemi_june = (rovaniemi_data.loc[[i.month==6 for i in rovaniemi_datetime],'TEMP']-32)/1.8\n",
    "\n",
    "print('Kumpula Temp in May (C degree):\\n *Mean:%.2f\\n *Max:%.2f\\n *Min:%.2f'%(kumpula_may.mean(),kumpula_may.max(),kumpula_may.min()))\n",
    "# print(kumpula_may.describe())\n",
    "print('Kumpula Temp in June (C degree):\\n *Mean:%.2f\\n *Max:%.2f\\n *Min:%.2f'%(kumpula_june.mean(),kumpula_june.max(),kumpula_june.min()))\n",
    "print('Rovaniemi Temp in May (C degree):\\n *Mean:%.2f\\n *Max:%.2f\\n *Min:%.2f'%(rovaniemi_may.mean(),rovaniemi_may.max(),rovaniemi_may.min()))\n",
    "print('Rovaniemi Temp in June (C degree):\\n *Mean:%.2f\\n *Max:%.2f\\n *Min:%.2f'%(rovaniemi_june.mean(),rovaniemi_june.max(),rovaniemi_june.min()))\n",
    "\n"
   ]
  },
  {
   "cell_type": "markdown",
   "metadata": {},
   "source": [
    "Not much changes in Kumpula but huge difference in Rovaniemi (10 degresses) in just 1 month"
   ]
  },
  {
   "cell_type": "code",
   "execution_count": 251,
   "metadata": {
    "scrolled": true
   },
   "outputs": [
    {
     "name": "stdout",
     "output_type": "stream",
     "text": [
      "[28450 29980]\n"
     ]
    }
   ],
   "source": [
    "data_ex5 = dataFrame.loc[:,['USAF','YR--MODAHRMN','TEMP']]\n",
    "places = data_ex5.loc[:,'USAF'].unique()\n",
    "print(places)"
   ]
  },
  {
   "cell_type": "code",
   "execution_count": 256,
   "metadata": {
    "scrolled": true
   },
   "outputs": [
    {
     "name": "stdout",
     "output_type": "stream",
     "text": [
      "         date   mean   max   min\n",
      "0    20170501  35.96  44.0  30.0\n",
      "1    20170502  38.18  45.0  33.0\n",
      "2    20170503  35.79  39.0  30.0\n",
      "3    20170504  39.90  48.0  30.0\n",
      "4    20170505  44.43  54.0  34.0\n",
      "5    20170506  31.28  35.0  27.0\n",
      "6    20170507  28.90  34.0  21.0\n",
      "7    20170508  28.51  34.0  19.0\n",
      "8    20170509  30.85  37.0  27.0\n",
      "9    20170510  29.61  35.0  25.0\n",
      "10   20170511  29.12  34.0  25.0\n",
      "11   20170512  31.43  37.0  25.0\n",
      "12   20170513  31.53  37.0  27.0\n",
      "13   20170514  32.76  37.0  25.0\n",
      "14   20170515  34.56  40.0  27.0\n",
      "15   20170516  38.51  46.0  29.0\n",
      "16   20170517  36.69  38.0  34.0\n",
      "17   20170518  41.46  52.0  34.0\n",
      "18   20170519  43.14  48.0  38.0\n",
      "19   20170520  40.11  44.0  36.0\n",
      "20   20170521  43.89  50.0  36.0\n",
      "21   20170522  47.32  54.0  41.0\n",
      "22   20170523  42.39  47.0  34.0\n",
      "23   20170524  47.19  55.0  34.0\n",
      "24   20170525  47.82  59.0  36.0\n",
      "25   20170526  38.08  43.0  30.0\n",
      "26   20170527  36.54  41.0  32.0\n",
      "27   20170528  34.74  38.0  32.0\n",
      "28   20170529  38.43  44.0  32.0\n",
      "29   20170530  41.25  47.0  30.0\n",
      "..        ...    ...   ...   ...\n",
      "93   20170802  60.14  68.0  52.0\n",
      "94   20170803  58.29  64.0  50.0\n",
      "95   20170804  54.78  59.0  48.0\n",
      "96   20170805  56.14  64.0  52.0\n",
      "97   20170806  51.65  55.0  48.0\n",
      "98   20170807  52.29  57.0  45.0\n",
      "99   20170808  57.23  65.0  43.0\n",
      "100  20170809  59.01  67.0  50.0\n",
      "101  20170810  56.51  63.0  50.0\n",
      "102  20170811  57.26  63.0  54.0\n",
      "103  20170812  60.67  68.0  54.0\n",
      "104  20170813  55.61  59.0  45.0\n",
      "105  20170814  52.31  61.0  45.0\n",
      "106  20170815  52.02  60.0  41.0\n",
      "107  20170816  56.42  64.0  48.0\n",
      "108  20170817  56.93  64.0  48.0\n",
      "109  20170818  59.64  69.0  46.0\n",
      "110  20170819  60.36  64.0  57.0\n",
      "111  20170820  57.11  59.0  54.0\n",
      "112  20170821  56.14  59.0  54.0\n",
      "113  20170822  49.67  55.0  43.0\n",
      "114  20170823  45.53  48.0  41.0\n",
      "115  20170824  46.49  50.0  44.0\n",
      "116  20170825  44.19  47.0  39.0\n",
      "117  20170826  44.07  52.0  37.0\n",
      "118  20170827  45.85  50.0  41.0\n",
      "119  20170828  48.46  55.0  37.0\n",
      "120  20170829  51.46  54.0  46.0\n",
      "121  20170830  52.33  58.0  48.0\n",
      "122  20170831  53.54  63.0  46.0\n",
      "\n",
      "[123 rows x 4 columns]\n"
     ]
    }
   ],
   "source": [
    "def get_day_data(data,date):\n",
    "    index = [str(date) in str(i) for i in data.loc[:,'YR--MODAHRMN']]\n",
    "    date_data = data.loc[index ,:]\n",
    "    temp_mean = date_data.loc[:,'TEMP'].mean().round(2)\n",
    "    temp_max = date_data.loc[:,'TEMP'].max()\n",
    "    temp_min = date_data.loc[:,'TEMP'].min()\n",
    "    return temp_mean,temp_max,temp_min\n",
    "\n",
    "def get_record(data,place_id):\n",
    "    place_data = data.loc[data.loc[:,'USAF']==place_id,:]\n",
    "    columns = ['date','mean','max','min']\n",
    "    place_out_data = []\n",
    "    dates = (place_data.loc[:,'YR--MODAHRMN'].astype('int64')*1e-4).astype('int64').unique()\n",
    "    for day in dates:\n",
    "        temp_mean,temp_max,temp_min =get_day_data(place_data,day) \n",
    "        place_out_data.append([day,temp_mean,temp_max,temp_min])\n",
    "    place_out_data = pd.DataFrame(place_out_data,columns = columns)\n",
    "#     print(place_out_data)\n",
    "    return place_out_data\n",
    "place_name = {28450 : 'Rovaniemi',29980 : 'Helsinki Kumpula'}\n",
    "places_data = {}\n",
    "for place in places:\n",
    "    places_data[place] = get_record(data_ex5,place)\n",
    "\n",
    "print(places_data[places[0]])\n",
    "    \n",
    "    \n",
    "    "
   ]
  },
  {
   "cell_type": "code",
   "execution_count": null,
   "metadata": {},
   "outputs": [],
   "source": []
  }
 ],
 "metadata": {
  "kernelspec": {
   "display_name": "Python 3",
   "language": "python",
   "name": "python3"
  },
  "language_info": {
   "codemirror_mode": {
    "name": "ipython",
    "version": 3
   },
   "file_extension": ".py",
   "mimetype": "text/x-python",
   "name": "python",
   "nbconvert_exporter": "python",
   "pygments_lexer": "ipython3",
   "version": "3.6.6"
  }
 },
 "nbformat": 4,
 "nbformat_minor": 2
}
